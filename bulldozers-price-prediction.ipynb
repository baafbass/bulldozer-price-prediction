{
 "cells": [
  {
   "cell_type": "markdown",
   "id": "3a12a57d-e2c8-4234-9f55-79a551a85d28",
   "metadata": {},
   "source": [
    "# Predicting The Sale Price of Bulldozers using Machine Learning\n",
    "\n",
    "In this notebook,I am going to go through an example machine learning project with the goal of predicting the sale price of bulldozers."
   ]
  },
  {
   "cell_type": "markdown",
   "id": "edb3760b-58c1-404c-8a97-47f2d0036028",
   "metadata": {},
   "source": [
    "## 1. Problem Definition \n",
    "> How well can I predict the future sale price of a bulldozer,given its characteristics and previews examples of how much similar \n",
    "bulldozers gave been sold for?\n",
    "\n",
    "## 2. Data\n",
    "The data has been downloaded from kaggle bluebook for bulldozers competition.\n",
    "\n",
    "## 3. Evaluation\n",
    "The evaluation metrics for this competition is the RMSLE (Root Mean Squared Log Error) between the actual and the predicted auction prices.\n",
    "\n",
    "I known that the goal for most regression evaluation metrics is to minimize the error so my goal for this project will be to build a Machine Learning\n",
    "Model which minimizes RMSLE.\n",
    "\n",
    "## 4. Features\n",
    "Kaggle provides a data dictionary detailing all of the feature of the dataset.\n",
    "\n"
   ]
  },
  {
   "cell_type": "code",
   "execution_count": 2,
   "id": "ce9ed77b-5386-49d6-ad4e-b662787837fd",
   "metadata": {},
   "outputs": [],
   "source": [
    "import numpy as np\n",
    "import pandas as pd\n",
    "import matplotlib.pyplot as plt\n",
    "import sklearn"
   ]
  }
 ],
 "metadata": {
  "kernelspec": {
   "display_name": "Python 3 (ipykernel)",
   "language": "python",
   "name": "python3"
  },
  "language_info": {
   "codemirror_mode": {
    "name": "ipython",
    "version": 3
   },
   "file_extension": ".py",
   "mimetype": "text/x-python",
   "name": "python",
   "nbconvert_exporter": "python",
   "pygments_lexer": "ipython3",
   "version": "3.11.7"
  }
 },
 "nbformat": 4,
 "nbformat_minor": 5
}
